{
 "cells": [
  {
   "cell_type": "markdown",
   "metadata": {},
   "source": [
    "# Convolutional Neural Networks: Application\n",
    "\n",
    "Welcome to Course 4's second assignment! In this notebook, you will:\n",
    "\n",
    "- Create a mood classifer using the TF Keras Sequential API\n",
    "- Build a ConvNet to identify sign language digits using the TF Keras Functional API\n",
    "\n",
    "**After this assignment you will be able to:**\n",
    "\n",
    "- Build and train a ConvNet in TensorFlow for a __binary__ classification problem\n",
    "- Build and train a ConvNet in TensorFlow for a __multiclass__ classification problem\n",
    "- Explain different use cases for the Sequential and Functional APIs\n",
    "\n",
    "To complete this assignment, you should already be familiar with TensorFlow. If you are not, please refer back to the **TensorFlow Tutorial** of the third week of Course 2 (\"**Improving deep neural networks**\")."
   ]
  },
  {
   "cell_type": "markdown",
   "metadata": {},
   "source": [
    "## Table of Contents\n",
    "\n",
    "- [1 - Packages](#1)\n",
    "    - [1.1 - Load the Data and Split the Data into Train/Test Sets](#1-1)\n",
    "- [2 - Layers in TF Keras](#2)\n",
    "- [3 - The Sequential API](#3)\n",
    "    - [3.1 - Create the Sequential Model](#3-1)\n",
    "        - [Exercise 1 - happyModel](#ex-1)\n",
    "    - [3.2 - Train and Evaluate the Model](#3-2)\n",
    "- [4 - The Functional API](#4)\n",
    "    - [4.1 - Load the SIGNS Dataset](#4-1)\n",
    "    - [4.2 - Split the Data into Train/Test Sets](#4-2)\n",
    "    - [4.3 - Forward Propagation](#4-3)\n",
    "        - [Exercise 2 - convolutional_model](#ex-2)\n",
    "    - [4.4 - Train the Model](#4-4)\n",
    "- [5 - History Object](#5)\n",
    "- [6 - Bibliography](#6)"
   ]
  },
  {
   "cell_type": "markdown",
   "metadata": {},
   "source": [
    "<a name='1'></a>\n",
    "## 1 - Packages\n",
    "\n",
    "As usual, begin by loading in the packages."
   ]
  },
  {
   "cell_type": "code",
   "execution_count": 2,
   "metadata": {},
   "outputs": [],
   "source": [
    "import math\n",
    "import numpy as np\n",
    "import h5py\n",
    "import matplotlib.pyplot as plt\n",
    "from matplotlib.pyplot import imread\n",
    "import scipy\n",
    "from PIL import Image\n",
    "import pandas as pd\n",
    "import tensorflow as tf\n",
    "import tensorflow.keras.layers as tfl\n",
    "from tensorflow.python.framework import ops\n",
    "from cnn_utils import *\n",
    "from test_utils import summary, comparator\n",
    "\n",
    "%matplotlib inline\n",
    "np.random.seed(1)"
   ]
  },
  {
   "cell_type": "markdown",
   "metadata": {},
   "source": [
    "<a name='1-1'></a>\n",
    "### 1.1 - Load the Data and Split the Data into Train/Test Sets\n",
    "\n",
    "You'll be using the Happy House dataset for this part of the assignment, which contains images of peoples' faces. Your task will be to build a ConvNet that determines whether the people in the images are smiling or not -- because they only get to enter the house if they're smiling!  "
   ]
  },
  {
   "cell_type": "code",
   "execution_count": 3,
   "metadata": {},
   "outputs": [
    {
     "name": "stdout",
     "output_type": "stream",
     "text": [
      "number of training examples = 600\n",
      "number of test examples = 150\n",
      "X_train shape: (600, 64, 64, 3)\n",
      "Y_train shape: (600, 1)\n",
      "X_test shape: (150, 64, 64, 3)\n",
      "Y_test shape: (150, 1)\n"
     ]
    }
   ],
   "source": [
    "X_train_orig, Y_train_orig, X_test_orig, Y_test_orig, classes = load_happy_dataset()\n",
    "\n",
    "# Normalize image vectors\n",
    "X_train = X_train_orig/255.\n",
    "X_test = X_test_orig/255.\n",
    "\n",
    "# Reshape\n",
    "Y_train = Y_train_orig.T\n",
    "Y_test = Y_test_orig.T\n",
    "\n",
    "print (\"number of training examples = \" + str(X_train.shape[0]))\n",
    "print (\"number of test examples = \" + str(X_test.shape[0]))\n",
    "print (\"X_train shape: \" + str(X_train.shape))\n",
    "print (\"Y_train shape: \" + str(Y_train.shape))\n",
    "print (\"X_test shape: \" + str(X_test.shape))\n",
    "print (\"Y_test shape: \" + str(Y_test.shape))"
   ]
  },
  {
   "cell_type": "markdown",
   "metadata": {},
   "source": [
    "You can display the images contained in the dataset. Images are **64x64** pixels in RGB format (3 channels)."
   ]
  },
  {
   "cell_type": "code",
   "execution_count": 4,
   "metadata": {},
   "outputs": [
    {
     "data": {
      "image/png": "[encoded data removed]",
      "text/plain": [
       "<Figure size 432x288 with 1 Axes>"
      ]
     },
     "metadata": {
      "needs_background": "light"
     },
     "output_type": "display_data"
    }
   ],
   "source": [
    "index = 200\n",
    "plt.imshow(X_train_orig[index]) #display sample training image\n",
    "plt.show()"
   ]
  },
  {
   "cell_type": "markdown",
   "metadata": {},
   "source": [
    "<a name='2'></a>\n",
    "## 2 - Layers in TF Keras \n",
    "\n",
    "In the previous assignment, you created layers manually in numpy. In TF Keras, you don't have to write code directly to create layers. Rather, TF Keras has pre-defined layers you can use. \n",
    "\n",
    "When you create a layer in TF Keras, you are creating a function that takes some input and transforms it into an output you can reuse later. Nice and easy! "
   ]
  },
  {
   "cell_type": "markdown",
   "metadata": {},
   "source": [
    "<a name='3'></a>\n",
    "## 3 - The Sequential API\n",
    "\n",
    "In the previous assignment, you built helper functions using `numpy` to understand the mechanics behind convolutional neural networks. Most practical applications of deep learning today are built using programming frameworks, which have many built-in functions you can simply call. Keras is a high-level abstraction built on top of TensorFlow, which allows for even more simplified and optimized model creation and training. \n",
    "\n",
    "For the first part of this assignment, you'll create a model using TF Keras' Sequential API, which allows you to build layer by layer, and is ideal for building models where each layer has **exactly one** input tensor and **one** output tensor. \n",
    "\n",
    "As you'll see, using the Sequential API is simple and straightforward, but is only appropriate for simpler, more straightforward tasks. Later in this notebook you'll spend some time building with a more flexible, powerful alternative: the Functional API. \n",
    " "
   ]
  },
  {
   "cell_type": "markdown",
   "metadata": {},
   "source": [
    "<a name='3-1'></a>\n",
    "### 3.1 - Create the Sequential Model\n",
    "\n",
    "As mentioned earlier, the TensorFlow Keras Sequential API can be used to build simple models with layer operations that proceed in a sequential order. \n",
    "\n",
    "You can also add layers incrementally to a Sequential model with the `.add()` method, or remove them using the `.pop()` method, much like you would in a regular Python list.\n",
    "\n",
    "Actually, you can think of a Sequential model as behaving like a list of layers. Like Python lists, Sequential layers are ordered, and the order in which they are specified matters.  If your model is non-linear or contains layers with multiple inputs or outputs, a Sequential model wouldn't be the right choice!\n",
    "\n",
    "For any layer construction in Keras, you'll need to specify the input shape in advance. This is because in Keras, the shape of the weights is based on the shape of the inputs. The weights are only created when the model first sees some input data. Sequential models can be created by passing a list of layers to the Sequential constructor, like you will do in the next assignment.\n",
    "\n",
    "<a name='ex-1'></a>\n",
    "### Exercise 1 - happyModel\n",
    "\n",
    "Implement the `happyModel` function below to build the following model: `ZEROPAD2D -> CONV2D -> BATCHNORM -> RELU -> MAXPOOL -> FLATTEN -> DENSE`. Take help from [tf.keras.layers](https://www.tensorflow.org/api_docs/python/tf/keras/layers) \n",
    "\n",
    "Also, plug in the following parameters for all the steps:\n",
    "\n",
    " - [ZeroPadding2D](https://www.tensorflow.org/api_docs/python/tf/keras/layers/ZeroPadding2D): padding 3, input shape 64 x 64 x 3\n",
    " - [Conv2D](https://www.tensorflow.org/api_docs/python/tf/keras/layers/Conv2D): Use 32 7x7 filters, stride 1\n",
    " - [BatchNormalization](https://www.tensorflow.org/api_docs/python/tf/keras/layers/BatchNormalization): for axis 3\n",
    " - [ReLU](https://www.tensorflow.org/api_docs/python/tf/keras/layers/ReLU)\n",
    " - [MaxPool2D](https://www.tensorflow.org/api_docs/python/tf/keras/layers/MaxPool2D): Using default parameters\n",
    " - [Flatten](https://www.tensorflow.org/api_docs/python/tf/keras/layers/Flatten) the previous output.\n",
    " - Fully-connected ([Dense](https://www.tensorflow.org/api_docs/python/tf/keras/layers/Dense)) layer: Apply a fully connected layer with 1 neuron and a sigmoid activation. \n",
    " \n",
    " \n",
    " **Hint:**\n",
    " \n",
    " Use **tfl** as shorthand for **tensorflow.keras.layers**"
   ]
  },
  {
   "cell_type": "code",
   "execution_count": 19,
   "metadata": {
    "deletable": false,
    "nbgrader": {
     "cell_type": "code",
     "checksum": "95d28b191f257bdd5b70c7b8952559d5",
     "grade": false,
     "grade_id": "cell-0e56d3fc28b69aec",
     "locked": false,
     "schema_version": 3,
     "solution": true,
     "task": false
    }
   },
   "outputs": [],
   "source": [
    "# GRADED FUNCTION: happyModel\n",
    "\n",
    "def happyModel():\n",
    "    \n",
    "    \"\"\"\n",
    "    Implements the forward propagation for the binary classification model:\n",
    "    ZEROPAD2D -> CONV2D -> BATCHNORM -> RELU -> MAXPOOL -> FLATTEN -> DENSE\n",
    "    \n",
    "    Note that for simplicity and grading purposes, you'll hard-code all the values\n",
    "    such as the stride and kernel (filter) sizes. \n",
    "    Normally, functions should take these values as function parameters.\n",
    "    \n",
    "    Arguments:\n",
    "    None\n",
    "\n",
    "    Returns:\n",
    "    model -- TF Keras model (object containing the information for the entire training process) \n",
    "    \"\"\"\n",
    "    model = tf.keras.Sequential([\n",
    "        tf.keras.Input(shape=(64,64,3), dtype = np.float32),\n",
    "        ## ZeroPadding2D with padding 3, input shape of 64 x 64 x 3\n",
    "        tfl.ZeroPadding2D(padding=(3, 3)),\n",
    "        \n",
    "        ## Conv2D with 32 7x7 filters and stride of 1\n",
    "        tfl.Conv2D(32, 7, strides=(1, 1)),\n",
    "        ## BatchNormalization for axis 3\n",
    "        tfl.BatchNormalization(axis = 3),\n",
    "        ## ReLU\n",
    "        tfl.ReLU(),\n",
    "            \n",
    "        ## Max Pooling 2D with default parameters\n",
    "        tfl.MaxPool2D(),\n",
    "        ## Flatten layer\n",
    "        tfl.Flatten(),\n",
    "        ## Dense layer with 1 unit for output & 'sigmoid' activation\n",
    "        tfl.Dense(1, activation=\"sigmoid\"),\n",
    "        # YOUR CODE STARTS HERE\n",
    "        \n",
    "        # YOUR CODE ENDS HERE \n",
    "    ])\n",
    "        \n",
    "        \n",
    "    \n",
    "    return model"
   ]
  },
  {
   "cell_type": "code",
   "execution_count": 22,
   "metadata": {},
   "outputs": [],
   "source": [
    "#summary(happyModel())"
   ]
  },
  {
   "cell_type": "code",
   "execution_count": 21,
   "metadata": {
    "deletable": false,
    "editable": false,
    "nbgrader": {
     "cell_type": "code",
     "checksum": "8d3575c950e2e78149be2d05d671c80d",
     "grade": true,
     "grade_id": "cell-e3e1046e5c33d775",
     "locked": true,
     "points": 10,
     "schema_version": 3,
     "solution": false,
     "task": false
    }
   },
   "outputs": [
    {
     "name": "stdout",
     "output_type": "stream",
     "text": [
      "['ZeroPadding2D', (None, 70, 70, 3), 0, ((3, 3), (3, 3))]\n",
      "['Conv2D', (None, 64, 64, 32), 4736, 'valid', 'linear', 'GlorotUniform']\n",
      "['BatchNormalization', (None, 64, 64, 32), 128]\n",
      "['ReLU', (None, 64, 64, 32), 0]\n",
      "['MaxPooling2D', (None, 32, 32, 32), 0, (2, 2), (2, 2), 'valid']\n",
      "['Flatten', (None, 32768), 0]\n",
      "['Dense', (None, 1), 32769, 'sigmoid']\n",
      "\u001b[32mAll tests passed!\u001b[0m\n"
     ]
    }
   ],
   "source": [
    "happy_model = happyModel()\n",
    "# Print a summary for each layer\n",
    "for layer in summary(happy_model):\n",
    "    print(layer)\n",
    "    \n",
    "output = [['ZeroPadding2D', (None, 70, 70, 3), 0, ((3, 3), (3, 3))],\n",
    "            ['Conv2D', (None, 64, 64, 32), 4736, 'valid', 'linear', 'GlorotUniform'],\n",
    "            ['BatchNormalization', (None, 64, 64, 32), 128],\n",
    "            ['ReLU', (None, 64, 64, 32), 0],\n",
    "            ['MaxPooling2D', (None, 32, 32, 32), 0, (2, 2), (2, 2), 'valid'],\n",
    "            ['Flatten', (None, 32768), 0],\n",
    "            ['Dense', (None, 1), 32769, 'sigmoid']]\n",
    "    \n",
    "comparator(summary(happy_model), output)"
   ]
  },
  {
   "cell_type": "markdown",
   "metadata": {},
   "source": [
    "Now that your model is created, you can compile it for training with an optimizer and loss of your choice. When the string `accuracy` is specified as a metric, the type of accuracy used will be automatically converted based on the loss function used. This is one of the many optimizations built into TensorFlow that make your life easier! If you'd like to read more on how the compiler operates, check the docs [here](https://www.tensorflow.org/api_docs/python/tf/keras/Model#compile)."
   ]
  },
  {
   "cell_type": "code",
   "execution_count": 23,
   "metadata": {},
   "outputs": [],
   "source": [
    "happy_model.compile(optimizer='adam',\n",
    "                   loss='binary_crossentropy',\n",
    "                   metrics=['accuracy'])"
   ]
  },
  {
   "cell_type": "markdown",
   "metadata": {},
   "source": [
    "It's time to check your model's parameters with the `.summary()` method. This will display the types of layers you have, the shape of the outputs, and how many parameters are in each layer. "
   ]
  },
  {
   "cell_type": "code",
   "execution_count": 24,
   "metadata": {},
   "outputs": [
    {
     "name": "stdout",
     "output_type": "stream",
     "text": [
      "Model: \"sequential_7\"\n",
      "_________________________________________________________________\n",
      "Layer (type)                 Output Shape              Param #   \n",
      "=================================================================\n",
      "zero_padding2d_8 (ZeroPaddin (None, 70, 70, 3)         0         \n",
      "_________________________________________________________________\n",
      "conv2d_7 (Conv2D)            (None, 64, 64, 32)        4736      \n",
      "_________________________________________________________________\n",
      "batch_normalization_7 (Batch (None, 64, 64, 32)        128       \n",
      "_________________________________________________________________\n",
      "re_lu_7 (ReLU)               (None, 64, 64, 32)        0         \n",
      "_________________________________________________________________\n",
      "max_pooling2d_7 (MaxPooling2 (None, 32, 32, 32)        0         \n",
      "_________________________________________________________________\n",
      "flatten_7 (Flatten)          (None, 32768)             0         \n",
      "_________________________________________________________________\n",
      "dense_7 (Dense)              (None, 1)                 32769     \n",
      "=================================================================\n",
      "Total params: 37,633\n",
      "Trainable params: 37,569\n",
      "Non-trainable params: 64\n",
      "_________________________________________________________________\n"
     ]
    }
   ],
   "source": [
    "happy_model.summary()"
   ]
  },
  {
   "cell_type": "markdown",
   "metadata": {},
   "source": [
    "<a name='3-2'></a>\n",
    "### 3.2 - Train and Evaluate the Model\n",
    "\n",
    "After creating the model, compiling it with your choice of optimizer and loss function, and doing a sanity check on its contents, you are now ready to build! \n",
    "\n",
    "Simply call `.fit()` to train. That's it! No need for mini-batching, saving, or complex backpropagation computations. That's all been done for you, as you're using a TensorFlow dataset with the batches specified already. You do have the option to specify epoch number or minibatch size if you like (for example, in the case of an un-batched dataset)."
   ]
  },
  {
   "cell_type": "code",
   "execution_count": 13,
   "metadata": {},
   "outputs": [
    {
     "name": "stdout",
     "output_type": "stream",
     "text": [
      "Epoch 1/10\n",
      "38/38 [==============================] - 4s 97ms/step - loss: 1.1910 - accuracy: 0.6983\n",
      "Epoch 2/10\n",
      "38/38 [==============================] - 4s 92ms/step - loss: 0.4135 - accuracy: 0.8367\n",
      "Epoch 3/10\n",
      "38/38 [==============================] - 3s 90ms/step - loss: 0.2616 - accuracy: 0.9050\n",
      "Epoch 4/10\n",
      "38/38 [==============================] - 3s 92ms/step - loss: 0.1335 - accuracy: 0.9450\n",
      "Epoch 5/10\n",
      "38/38 [==============================] - 4s 92ms/step - loss: 0.1020 - accuracy: 0.9567\n",
      "Epoch 6/10\n",
      "38/38 [==============================] - 3s 90ms/step - loss: 0.0961 - accuracy: 0.9667\n",
      "Epoch 7/10\n",
      "38/38 [==============================] - 3s 89ms/step - loss: 0.0870 - accuracy: 0.9683\n",
      "Epoch 8/10\n",
      "38/38 [==============================] - 3s 90ms/step - loss: 0.0839 - accuracy: 0.9667\n",
      "Epoch 9/10\n",
      "38/38 [==============================] - 3s 90ms/step - loss: 0.1014 - accuracy: 0.9617\n",
      "Epoch 10/10\n",
      "38/38 [==============================] - 3s 90ms/step - loss: 0.1765 - accuracy: 0.9450\n"
     ]
    },
    {
     "data": {
      "text/plain": [
       "<tensorflow.python.keras.callbacks.History at 0x7f64b3bb2290>"
      ]
     },
     "execution_count": 13,
     "metadata": {},
     "output_type": "execute_result"
    }
   ],
   "source": [
    "happy_model.fit(X_train, Y_train, epochs=10, batch_size=16)"
   ]
  },
  {
   "cell_type": "markdown",
   "metadata": {},
   "source": [
    "After that completes, just use `.evaluate()` to evaluate against your test set. This function will print the value of the loss function and the performance metrics specified during the compilation of the model. In this case, the `binary_crossentropy` and the `accuracy` respectively."
   ]
  },
  {
   "cell_type": "code",
   "execution_count": 14,
   "metadata": {},
   "outputs": [
    {
     "name": "stdout",
     "output_type": "stream",
     "text": [
      "5/5 [==============================] - 0s 23ms/step - loss: 2.0293 - accuracy: 0.5733\n"
     ]
    },
    {
     "data": {
      "text/plain": [
       "[2.029308557510376, 0.5733333230018616]"
      ]
     },
     "execution_count": 14,
     "metadata": {},
     "output_type": "execute_result"
    }
   ],
   "source": [
    "happy_model.evaluate(X_test, Y_test)"
   ]
  },
  {
   "cell_type": "markdown",
   "metadata": {},
   "source": [
    "Easy, right? But what if you need to build a model with shared layers, branches, or multiple inputs and outputs? This is where Sequential, with its beautifully simple yet limited functionality, won't be able to help you. \n",
    "\n",
    "Next up: Enter the Functional API, your slightly more complex, highly flexible friend.  "
   ]
  },
  {
   "cell_type": "markdown",
   "metadata": {},
   "source": [
    "<a name='4'></a>\n",
    "## 4 - The Functional API"
   ]
  },
  {
   "cell_type": "markdown",
   "metadata": {},
   "source": [
    "Welcome to the second half of the assignment, where you'll use Keras' flexible [Functional API](https://www.tensorflow.org/guide/keras/functional) to build a ConvNet that can differentiate between 6 sign language digits. \n",
    "\n",
    "The Functional API can handle models with non-linear topology, shared layers, as well as layers with multiple inputs or outputs. Imagine that, where the Sequential API requires the model to move in a linear fashion through its layers, the Functional API allows much more flexibility. Where Sequential is a straight line, a Functional model is a graph, where the nodes of the layers can connect in many more ways than one. \n",
    "\n",
    "In the visual example below, the one possible direction of the movement Sequential model is shown in contrast to a skip connection, which is just one of the many ways a Functional model can be constructed. A skip connection, as you might have guessed, skips some layer in the network and feeds the output to a later layer in the network. Don't worry, you'll be spending more time with skip connections very soon! "
   ]
  },
  {
   "cell_type": "markdown",
   "metadata": {},
   "source": [
    "<img src=\"images/seq_vs_func.png\" style=\"width:350px;height:200px;\">"
   ]
  },
  {
   "cell_type": "markdown",
   "metadata": {},
   "source": [
    "<a name='4-1'></a>\n",
    "### 4.1 - Load the SIGNS Dataset\n",
    "\n",
    "As a reminder, the SIGNS dataset is a collection of 6 signs representing numbers from 0 to 5."
   ]
  },
  {
   "cell_type": "code",
   "execution_count": 25,
   "metadata": {},
   "outputs": [],
   "source": [
    "# Loading the data (signs)\n",
    "X_train_orig, Y_train_orig, X_test_orig, Y_test_orig, classes = load_signs_dataset()"
   ]
  },
  {
   "cell_type": "markdown",
   "metadata": {},
   "source": [
    "<img src=\"images/SIGNS.png\" style=\"width:800px;height:300px;\">\n",
    "\n",
    "The next cell will show you an example of a labelled image in the dataset. Feel free to change the value of `index` below and re-run to see different examples. "
   ]
  },
  {
   "cell_type": "code",
   "execution_count": 26,
   "metadata": {},
   "outputs": [
    {
     "name": "stdout",
     "output_type": "stream",
     "text": [
      "y = 4\n"
     ]
    },
    {
     "data": {
      "image/png": "[encoded data removed]",
      "text/plain": [
       "<Figure size 432x288 with 1 Axes>"
      ]
     },
     "metadata": {
      "needs_background": "light"
     },
     "output_type": "display_data"
    }
   ],
   "source": [
    "# Example of an image from the dataset\n",
    "index = 9\n",
    "plt.imshow(X_train_orig[index])\n",
    "print (\"y = \" + str(np.squeeze(Y_train_orig[:, index])))"
   ]
  },
  {
   "cell_type": "markdown",
   "metadata": {},
   "source": [
    "<a name='4-2'></a>\n",
    "### 4.2 - Split the Data into Train/Test Sets\n",
    "\n",
    "In Course 2, you built a fully-connected network for this dataset. But since this is an image dataset, it is more natural to apply a ConvNet to it.\n",
    "\n",
    "To get started, let's examine the shapes of your data. "
   ]
  },
  {
   "cell_type": "code",
   "execution_count": 27,
   "metadata": {},
   "outputs": [
    {
     "name": "stdout",
     "output_type": "stream",
     "text": [
      "number of training examples = 1080\n",
      "number of test examples = 120\n",
      "X_train shape: (1080, 64, 64, 3)\n",
      "Y_train shape: (1080, 6)\n",
      "X_test shape: (120, 64, 64, 3)\n",
      "Y_test shape: (120, 6)\n"
     ]
    }
   ],
   "source": [
    "X_train = X_train_orig/255.\n",
    "X_test = X_test_orig/255.\n",
    "Y_train = convert_to_one_hot(Y_train_orig, 6).T\n",
    "Y_test = convert_to_one_hot(Y_test_orig, 6).T\n",
    "print (\"number of training examples = \" + str(X_train.shape[0]))\n",
    "print (\"number of test examples = \" + str(X_test.shape[0]))\n",
    "print (\"X_train shape: \" + str(X_train.shape))\n",
    "print (\"Y_train shape: \" + str(Y_train.shape))\n",
    "print (\"X_test shape: \" + str(X_test.shape))\n",
    "print (\"Y_test shape: \" + str(Y_test.shape))"
   ]
  },
  {
   "cell_type": "markdown",
   "metadata": {},
   "source": [
    "<a name='4-3'></a>\n",
    "### 4.3 - Forward Propagation\n",
    "\n",
    "In TensorFlow, there are built-in functions that implement the convolution steps for you. By now, you should be familiar with how TensorFlow builds computational graphs. In the [Functional API](https://www.tensorflow.org/guide/keras/functional), you create a graph of layers. This is what allows such great flexibility.\n",
    "\n",
    "However, the following model could also be defined using the Sequential API since the information flow is on a single line. But don't deviate. What we want you to learn is to use the functional API.\n",
    "\n",
    "Begin building your graph of layers by creating an input node that functions as a callable object:\n",
    "\n",
    "- **input_img = tf.keras.Input(shape=input_shape):** \n",
    "\n",
    "Then, create a new node in the graph of layers by calling a layer on the `input_img` object: \n",
    "\n",
    "- **tf.keras.layers.Conv2D(filters= ... , kernel_size= ... , padding='same')(input_img):** Read the full documentation on [Conv2D](https://www.tensorflow.org/api_docs/python/tf/keras/layers/Conv2D).\n",
    "\n",
    "- **tf.keras.layers.MaxPool2D(pool_size=(f, f), strides=(s, s), padding='same'):** `MaxPool2D()` downsamples your input using a window of size (f, f) and strides of size (s, s) to carry out max pooling over each window.  For max pooling, you usually operate on a single example at a time and a single channel at a time. Read the full documentation on [MaxPool2D](https://www.tensorflow.org/api_docs/python/tf/keras/layers/MaxPool2D).\n",
    "\n",
    "- **tf.keras.layers.ReLU():** computes the elementwise ReLU of Z (which can be any shape). You can read the full documentation on [ReLU](https://www.tensorflow.org/api_docs/python/tf/keras/layers/ReLU).\n",
    "\n",
    "- **tf.keras.layers.Flatten()**: given a tensor \"P\", this function takes each training (or test) example in the batch and flattens it into a 1D vector.  \n",
    "\n",
    "    * If a tensor P has the shape (batch_size,h,w,c), it returns a flattened tensor with shape (batch_size, k), where $k=h \\times w \\times c$.  \"k\" equals the product of all the dimension sizes other than the first dimension.\n",
    "    \n",
    "    * For example, given a tensor with dimensions [100, 2, 3, 4], it flattens the tensor to be of shape [100, 24], where 24 = 2 * 3 * 4.  You can read the full documentation on [Flatten](https://www.tensorflow.org/api_docs/python/tf/keras/layers/Flatten).\n",
    "\n",
    "- **tf.keras.layers.Dense(units= ... , activation='softmax')(F):** given the flattened input F, it returns the output computed using a fully connected layer. You can read the full documentation on [Dense](https://www.tensorflow.org/api_docs/python/tf/keras/layers/Dense).\n",
    "\n",
    "In the last function above (`tf.keras.layers.Dense()`), the fully connected layer automatically initializes weights in the graph and keeps on training them as you train the model. Hence, you did not need to initialize those weights when initializing the parameters.\n",
    "\n",
    "Lastly, before creating the model, you'll need to define the output using the last of the function's compositions (in this example, a Dense layer): \n",
    "\n",
    "- **outputs = tf.keras.layers.Dense(units=6, activation='softmax')(F)**\n",
    "\n",
    "\n",
    "#### Window, kernel, filter, pool\n",
    "\n",
    "The words \"kernel\" and \"filter\" are used to refer to the same thing. The word \"filter\" accounts for the amount of \"kernels\" that will be used in a single convolution layer. \"Pool\" is the name of the operation that takes the max or average value of the kernels. \n",
    "\n",
    "This is why the parameter `pool_size` refers to `kernel_size`, and you use `(f,f)` to refer to the filter size. \n",
    "\n",
    "Pool size and kernel size refer to the same thing in different objects - They refer to the shape of the window where the operation takes place. "
   ]
  },
  {
   "cell_type": "markdown",
   "metadata": {},
   "source": [
    "<a name='ex-2'></a>\n",
    "### Exercise 2 - convolutional_model\n",
    "\n",
    "Implement the `convolutional_model` function below to build the following model: `CONV2D -> RELU -> MAXPOOL -> CONV2D -> RELU -> MAXPOOL -> FLATTEN -> DENSE`. Use the functions above! \n",
    "\n",
    "Also, plug in the following parameters for all the steps:\n",
    "\n",
    " - [Conv2D](https://www.tensorflow.org/api_docs/python/tf/keras/layers/Conv2D): Use 8 4 by 4 filters, stride 1, padding is \"SAME\"\n",
    " - [ReLU](https://www.tensorflow.org/api_docs/python/tf/keras/layers/ReLU)\n",
    " - [MaxPool2D](https://www.tensorflow.org/api_docs/python/tf/keras/layers/MaxPool2D): Use an 8 by 8 filter size and an 8 by 8 stride, padding is \"SAME\"\n",
    " - **Conv2D**: Use 16 2 by 2 filters, stride 1, padding is \"SAME\"\n",
    " - **ReLU**\n",
    " - **MaxPool2D**: Use a 4 by 4 filter size and a 4 by 4 stride, padding is \"SAME\"\n",
    " - [Flatten](https://www.tensorflow.org/api_docs/python/tf/keras/layers/Flatten) the previous output.\n",
    " - Fully-connected ([Dense](https://www.tensorflow.org/api_docs/python/tf/keras/layers/Dense)) layer: Apply a fully connected layer with 6 neurons and a softmax activation. "
   ]
  },
  {
   "cell_type": "code",
   "execution_count": 57,
   "metadata": {
    "deletable": false,
    "nbgrader": {
     "cell_type": "code",
     "checksum": "f58643806aa8380c96225fc8b4c5e7aa",
     "grade": false,
     "grade_id": "cell-dac51744a9e03f51",
     "locked": false,
     "schema_version": 3,
     "solution": true,
     "task": false
    }
   },
   "outputs": [],
   "source": [
    "# GRADED FUNCTION: convolutional_model\n",
    "\n",
    "def convolutional_model(input_shape):\n",
    "    \"\"\"\n",
    "    Implements the forward propagation for the model:\n",
    "    CONV2D -> RELU -> MAXPOOL -> CONV2D -> RELU -> MAXPOOL -> FLATTEN -> DENSE\n",
    "    \n",
    "    Note that for simplicity and grading purposes, you'll hard-code some values\n",
    "    such as the stride and kernel (filter) sizes. \n",
    "    Normally, functions should take these values as function parameters.\n",
    "    \n",
    "    Arguments:\n",
    "    input_img -- input dataset, of shape (input_shape)\n",
    "\n",
    "    Returns:\n",
    "    model -- TF Keras model (object containing the information for the entire training process) \n",
    "    \"\"\"\n",
    "\n",
    "    input_img = tf.keras.Input(shape=input_shape)\n",
    "    ## CONV2D: 8 filters 4x4, stride of 1, padding 'SAME'\n",
    "    \n",
    "    Z1 = tfl.Conv2D(8, 4, strides=(1, 1), padding = \"same\")(input_img)\n",
    "    ## RELU\n",
    "    A1 = tfl.ReLU()(Z1)\n",
    "    \n",
    "    ## MAXPOOL: window 8x8, stride 8, padding 'SAME'\n",
    "    P1 = tfl.MaxPool2D(pool_size = (8, 8), strides = (8,8), padding = \"same\")(A1)\n",
    "    \n",
    "    ## CONV2D: 16 filters 2x2, stride 1, padding 'SAME'\n",
    "    Z2 = tfl.Conv2D(16, 2, strides = (1,1), padding = \"same\")(P1)\n",
    "    \n",
    "    ## RELU\n",
    "    A2 = tfl.ReLU()(Z2)\n",
    "    ## MAXPOOL: window 4x4, stride 4, padding 'SAME'\n",
    "    P2 = tfl.MaxPool2D(pool_size = (4,4), strides = (4,4), padding = \"same\")(A2)\n",
    "    \n",
    "    ## FLATTEN\n",
    "    F = tfl.Flatten()(P2)\n",
    "    ## Dense layer\n",
    "    ## 6 neurons in output layer. Hint: one of the arguments should be \"activation='softmax'\"      \n",
    "    outputs = tfl.Dense(6, activation = \"softmax\")(F)\n",
    "    # YOUR CODE STARTS HERE\n",
    "    \n",
    "    \n",
    "    # YOUR CODE ENDS HERE\n",
    "    model = tf.keras.Model(inputs=input_img, outputs=outputs)\n",
    "    return model"
   ]
  },
  {
   "cell_type": "code",
   "execution_count": 58,
   "metadata": {
    "deletable": false,
    "editable": false,
    "nbgrader": {
     "cell_type": "code",
     "checksum": "483d626949930a0b0ef20997e7c6ba72",
     "grade": true,
     "grade_id": "cell-45d22e92042174c9",
     "locked": true,
     "points": 10,
     "schema_version": 3,
     "solution": false,
     "task": false
    }
   },
   "outputs": [
    {
     "name": "stdout",
     "output_type": "stream",
     "text": [
      "Model: \"functional_19\"\n",
      "_________________________________________________________________\n",
      "Layer (type)                 Output Shape              Param #   \n",
      "=================================================================\n",
      "input_19 (InputLayer)        [(None, 64, 64, 3)]       0         \n",
      "_________________________________________________________________\n",
      "conv2d_31 (Conv2D)           (None, 64, 64, 8)         392       \n",
      "_________________________________________________________________\n",
      "re_lu_31 (ReLU)              (None, 64, 64, 8)         0         \n",
      "_________________________________________________________________\n",
      "max_pooling2d_28 (MaxPooling (None, 8, 8, 8)           0         \n",
      "_________________________________________________________________\n",
      "conv2d_32 (Conv2D)           (None, 8, 8, 16)          528       \n",
      "_________________________________________________________________\n",
      "re_lu_32 (ReLU)              (None, 8, 8, 16)          0         \n",
      "_________________________________________________________________\n",
      "max_pooling2d_29 (MaxPooling (None, 2, 2, 16)          0         \n",
      "_________________________________________________________________\n",
      "flatten_18 (Flatten)         (None, 64)                0         \n",
      "_________________________________________________________________\n",
      "dense_18 (Dense)             (None, 6)                 390       \n",
      "=================================================================\n",
      "Total params: 1,310\n",
      "Trainable params: 1,310\n",
      "Non-trainable params: 0\n",
      "_________________________________________________________________\n",
      "\u001b[32mAll tests passed!\u001b[0m\n"
     ]
    }
   ],
   "source": [
    "conv_model = convolutional_model((64, 64, 3))\n",
    "conv_model.compile(optimizer='adam',\n",
    "                  loss='categorical_crossentropy',\n",
    "                  metrics=['accuracy'])\n",
    "conv_model.summary()\n",
    "    \n",
    "output = [['InputLayer', [(None, 64, 64, 3)], 0],\n",
    "        ['Conv2D', (None, 64, 64, 8), 392, 'same', 'linear', 'GlorotUniform'],\n",
    "        ['ReLU', (None, 64, 64, 8), 0],\n",
    "        ['MaxPooling2D', (None, 8, 8, 8), 0, (8, 8), (8, 8), 'same'],\n",
    "        ['Conv2D', (None, 8, 8, 16), 528, 'same', 'linear', 'GlorotUniform'],\n",
    "        ['ReLU', (None, 8, 8, 16), 0],\n",
    "        ['MaxPooling2D', (None, 2, 2, 16), 0, (4, 4), (4, 4), 'same'],\n",
    "        ['Flatten', (None, 64), 0],\n",
    "        ['Dense', (None, 6), 390, 'softmax']]\n",
    "    \n",
    "comparator(summary(conv_model), output)"
   ]
  },
  {
   "cell_type": "markdown",
   "metadata": {},
   "source": [
    "Both the Sequential and Functional APIs return a TF Keras model object. The only difference is how inputs are handled inside the object model! "
   ]
  },
  {
   "cell_type": "markdown",
   "metadata": {},
   "source": [
    "<a name='4-4'></a>\n",
    "### 4.4 - Train the Model"
   ]
  },
  {
   "cell_type": "code",
   "execution_count": 54,
   "metadata": {},
   "outputs": [
    {
     "name": "stdout",
     "output_type": "stream",
     "text": [
      "Epoch 1/100\n",
      "17/17 [==============================] - 2s 112ms/step - loss: 1.7981 - accuracy: 0.2213 - val_loss: 1.7871 - val_accuracy: 0.3083\n",
      "Epoch 2/100\n",
      "17/17 [==============================] - 2s 100ms/step - loss: 1.7840 - accuracy: 0.2176 - val_loss: 1.7817 - val_accuracy: 0.2417\n",
      "Epoch 3/100\n",
      "17/17 [==============================] - 2s 96ms/step - loss: 1.7766 - accuracy: 0.2750 - val_loss: 1.7769 - val_accuracy: 0.3000\n",
      "Epoch 4/100\n",
      "17/17 [==============================] - 2s 100ms/step - loss: 1.7692 - accuracy: 0.2787 - val_loss: 1.7707 - val_accuracy: 0.3167\n",
      "Epoch 5/100\n",
      "17/17 [==============================] - 2s 100ms/step - loss: 1.7599 - accuracy: 0.3056 - val_loss: 1.7624 - val_accuracy: 0.3250\n",
      "Epoch 6/100\n",
      "17/17 [==============================] - 2s 99ms/step - loss: 1.7475 - accuracy: 0.3102 - val_loss: 1.7514 - val_accuracy: 0.3583\n",
      "Epoch 7/100\n",
      "17/17 [==============================] - 2s 100ms/step - loss: 1.7307 - accuracy: 0.3083 - val_loss: 1.7382 - val_accuracy: 0.3667\n",
      "Epoch 8/100\n",
      "17/17 [==============================] - 2s 95ms/step - loss: 1.7094 - accuracy: 0.3472 - val_loss: 1.7184 - val_accuracy: 0.4083\n",
      "Epoch 9/100\n",
      "17/17 [==============================] - 2s 100ms/step - loss: 1.6808 - accuracy: 0.3991 - val_loss: 1.6936 - val_accuracy: 0.4000\n",
      "Epoch 10/100\n",
      "17/17 [==============================] - 2s 95ms/step - loss: 1.6463 - accuracy: 0.4148 - val_loss: 1.6628 - val_accuracy: 0.4250\n",
      "Epoch 11/100\n",
      "17/17 [==============================] - 2s 95ms/step - loss: 1.6048 - accuracy: 0.4417 - val_loss: 1.6250 - val_accuracy: 0.4667\n",
      "Epoch 12/100\n",
      "17/17 [==============================] - 2s 100ms/step - loss: 1.5590 - accuracy: 0.4676 - val_loss: 1.5837 - val_accuracy: 0.4833\n",
      "Epoch 13/100\n",
      "17/17 [==============================] - 2s 100ms/step - loss: 1.5107 - accuracy: 0.4806 - val_loss: 1.5398 - val_accuracy: 0.4417\n",
      "Epoch 14/100\n",
      "17/17 [==============================] - 2s 100ms/step - loss: 1.4623 - accuracy: 0.4963 - val_loss: 1.4941 - val_accuracy: 0.4833\n",
      "Epoch 15/100\n",
      "17/17 [==============================] - 2s 100ms/step - loss: 1.4162 - accuracy: 0.5167 - val_loss: 1.4501 - val_accuracy: 0.5000\n",
      "Epoch 16/100\n",
      "17/17 [==============================] - 2s 99ms/step - loss: 1.3738 - accuracy: 0.5269 - val_loss: 1.4071 - val_accuracy: 0.5250\n",
      "Epoch 17/100\n",
      "17/17 [==============================] - 2s 100ms/step - loss: 1.3353 - accuracy: 0.5370 - val_loss: 1.3661 - val_accuracy: 0.5083\n",
      "Epoch 18/100\n",
      "17/17 [==============================] - 2s 95ms/step - loss: 1.3005 - accuracy: 0.5463 - val_loss: 1.3278 - val_accuracy: 0.5333\n",
      "Epoch 19/100\n",
      "17/17 [==============================] - 2s 100ms/step - loss: 1.2686 - accuracy: 0.5500 - val_loss: 1.2919 - val_accuracy: 0.5500\n",
      "Epoch 20/100\n",
      "17/17 [==============================] - 2s 95ms/step - loss: 1.2383 - accuracy: 0.5583 - val_loss: 1.2598 - val_accuracy: 0.5667\n",
      "Epoch 21/100\n",
      "17/17 [==============================] - 2s 95ms/step - loss: 1.2089 - accuracy: 0.5704 - val_loss: 1.2294 - val_accuracy: 0.5667\n",
      "Epoch 22/100\n",
      "17/17 [==============================] - 2s 95ms/step - loss: 1.1815 - accuracy: 0.5833 - val_loss: 1.1999 - val_accuracy: 0.5917\n",
      "Epoch 23/100\n",
      "17/17 [==============================] - 2s 96ms/step - loss: 1.1545 - accuracy: 0.5889 - val_loss: 1.1711 - val_accuracy: 0.6000\n",
      "Epoch 24/100\n",
      "17/17 [==============================] - 2s 96ms/step - loss: 1.1278 - accuracy: 0.5963 - val_loss: 1.1452 - val_accuracy: 0.6000\n",
      "Epoch 25/100\n",
      "17/17 [==============================] - 2s 94ms/step - loss: 1.1015 - accuracy: 0.6074 - val_loss: 1.1198 - val_accuracy: 0.6333\n",
      "Epoch 26/100\n",
      "17/17 [==============================] - 2s 94ms/step - loss: 1.0770 - accuracy: 0.6241 - val_loss: 1.0951 - val_accuracy: 0.6167\n",
      "Epoch 27/100\n",
      "17/17 [==============================] - 2s 100ms/step - loss: 1.0523 - accuracy: 0.6333 - val_loss: 1.0705 - val_accuracy: 0.6167\n",
      "Epoch 28/100\n",
      "17/17 [==============================] - 2s 100ms/step - loss: 1.0281 - accuracy: 0.6380 - val_loss: 1.0482 - val_accuracy: 0.6333\n",
      "Epoch 29/100\n",
      "17/17 [==============================] - 2s 100ms/step - loss: 1.0061 - accuracy: 0.6565 - val_loss: 1.0282 - val_accuracy: 0.6250\n",
      "Epoch 30/100\n",
      "17/17 [==============================] - 2s 100ms/step - loss: 0.9843 - accuracy: 0.6667 - val_loss: 1.0088 - val_accuracy: 0.6333\n",
      "Epoch 31/100\n",
      "17/17 [==============================] - 2s 95ms/step - loss: 0.9633 - accuracy: 0.6750 - val_loss: 0.9896 - val_accuracy: 0.6333\n",
      "Epoch 32/100\n",
      "17/17 [==============================] - 2s 100ms/step - loss: 0.9445 - accuracy: 0.6769 - val_loss: 0.9717 - val_accuracy: 0.6417\n",
      "Epoch 33/100\n",
      "17/17 [==============================] - 2s 100ms/step - loss: 0.9261 - accuracy: 0.6880 - val_loss: 0.9544 - val_accuracy: 0.6500\n",
      "Epoch 34/100\n",
      "17/17 [==============================] - 2s 100ms/step - loss: 0.9085 - accuracy: 0.6944 - val_loss: 0.9398 - val_accuracy: 0.6583\n",
      "Epoch 35/100\n",
      "17/17 [==============================] - 2s 100ms/step - loss: 0.8925 - accuracy: 0.7019 - val_loss: 0.9260 - val_accuracy: 0.6583\n",
      "Epoch 36/100\n",
      "17/17 [==============================] - 2s 100ms/step - loss: 0.8768 - accuracy: 0.7083 - val_loss: 0.9141 - val_accuracy: 0.6667\n",
      "Epoch 37/100\n",
      "17/17 [==============================] - 2s 100ms/step - loss: 0.8620 - accuracy: 0.7130 - val_loss: 0.9030 - val_accuracy: 0.6750\n",
      "Epoch 38/100\n",
      "17/17 [==============================] - 2s 100ms/step - loss: 0.8472 - accuracy: 0.7176 - val_loss: 0.8917 - val_accuracy: 0.6833\n",
      "Epoch 39/100\n",
      "17/17 [==============================] - 2s 95ms/step - loss: 0.8336 - accuracy: 0.7213 - val_loss: 0.8830 - val_accuracy: 0.6667\n",
      "Epoch 40/100\n",
      "17/17 [==============================] - 2s 100ms/step - loss: 0.8210 - accuracy: 0.7231 - val_loss: 0.8754 - val_accuracy: 0.6917\n",
      "Epoch 41/100\n",
      "17/17 [==============================] - 2s 100ms/step - loss: 0.8084 - accuracy: 0.7315 - val_loss: 0.8678 - val_accuracy: 0.7000\n",
      "Epoch 42/100\n",
      "17/17 [==============================] - 2s 95ms/step - loss: 0.7969 - accuracy: 0.7324 - val_loss: 0.8588 - val_accuracy: 0.7000\n",
      "Epoch 43/100\n",
      "17/17 [==============================] - 2s 95ms/step - loss: 0.7848 - accuracy: 0.7333 - val_loss: 0.8532 - val_accuracy: 0.7000\n",
      "Epoch 44/100\n",
      "17/17 [==============================] - 2s 100ms/step - loss: 0.7740 - accuracy: 0.7324 - val_loss: 0.8462 - val_accuracy: 0.6917\n",
      "Epoch 45/100\n",
      "17/17 [==============================] - 2s 100ms/step - loss: 0.7636 - accuracy: 0.7352 - val_loss: 0.8389 - val_accuracy: 0.7083\n",
      "Epoch 46/100\n",
      "17/17 [==============================] - 2s 100ms/step - loss: 0.7533 - accuracy: 0.7380 - val_loss: 0.8286 - val_accuracy: 0.7167\n",
      "Epoch 47/100\n",
      "17/17 [==============================] - 2s 100ms/step - loss: 0.7422 - accuracy: 0.7444 - val_loss: 0.8195 - val_accuracy: 0.7167\n",
      "Epoch 48/100\n",
      "17/17 [==============================] - 2s 95ms/step - loss: 0.7315 - accuracy: 0.7500 - val_loss: 0.8119 - val_accuracy: 0.7167\n",
      "Epoch 49/100\n",
      "17/17 [==============================] - 2s 100ms/step - loss: 0.7206 - accuracy: 0.7537 - val_loss: 0.8024 - val_accuracy: 0.7250\n",
      "Epoch 50/100\n",
      "17/17 [==============================] - 2s 100ms/step - loss: 0.7096 - accuracy: 0.7546 - val_loss: 0.7941 - val_accuracy: 0.7250\n",
      "Epoch 51/100\n",
      "17/17 [==============================] - 2s 95ms/step - loss: 0.6994 - accuracy: 0.7565 - val_loss: 0.7866 - val_accuracy: 0.7250\n",
      "Epoch 52/100\n",
      "17/17 [==============================] - 2s 100ms/step - loss: 0.6892 - accuracy: 0.7630 - val_loss: 0.7799 - val_accuracy: 0.7250\n",
      "Epoch 53/100\n",
      "17/17 [==============================] - 2s 100ms/step - loss: 0.6794 - accuracy: 0.7713 - val_loss: 0.7731 - val_accuracy: 0.7250\n",
      "Epoch 54/100\n",
      "17/17 [==============================] - 2s 100ms/step - loss: 0.6700 - accuracy: 0.7778 - val_loss: 0.7673 - val_accuracy: 0.7250\n",
      "Epoch 55/100\n",
      "17/17 [==============================] - 2s 100ms/step - loss: 0.6612 - accuracy: 0.7806 - val_loss: 0.7612 - val_accuracy: 0.7250\n",
      "Epoch 56/100\n",
      "17/17 [==============================] - 2s 100ms/step - loss: 0.6522 - accuracy: 0.7843 - val_loss: 0.7567 - val_accuracy: 0.7250\n",
      "Epoch 57/100\n",
      "17/17 [==============================] - 2s 100ms/step - loss: 0.6440 - accuracy: 0.7907 - val_loss: 0.7519 - val_accuracy: 0.7333\n",
      "Epoch 58/100\n"
     ]
    },
    {
     "name": "stdout",
     "output_type": "stream",
     "text": [
      "17/17 [==============================] - 2s 95ms/step - loss: 0.6362 - accuracy: 0.7935 - val_loss: 0.7473 - val_accuracy: 0.7333\n",
      "Epoch 59/100\n",
      "17/17 [==============================] - 2s 95ms/step - loss: 0.6287 - accuracy: 0.7972 - val_loss: 0.7424 - val_accuracy: 0.7250\n",
      "Epoch 60/100\n",
      "17/17 [==============================] - 2s 100ms/step - loss: 0.6208 - accuracy: 0.7991 - val_loss: 0.7362 - val_accuracy: 0.7250\n",
      "Epoch 61/100\n",
      "17/17 [==============================] - 2s 100ms/step - loss: 0.6129 - accuracy: 0.8009 - val_loss: 0.7298 - val_accuracy: 0.7250\n",
      "Epoch 62/100\n",
      "17/17 [==============================] - 2s 100ms/step - loss: 0.6049 - accuracy: 0.8093 - val_loss: 0.7251 - val_accuracy: 0.7333\n",
      "Epoch 63/100\n",
      "17/17 [==============================] - 2s 94ms/step - loss: 0.5974 - accuracy: 0.8120 - val_loss: 0.7209 - val_accuracy: 0.7333\n",
      "Epoch 64/100\n",
      "17/17 [==============================] - 2s 100ms/step - loss: 0.5900 - accuracy: 0.8148 - val_loss: 0.7159 - val_accuracy: 0.7333\n",
      "Epoch 65/100\n",
      "17/17 [==============================] - 2s 100ms/step - loss: 0.5830 - accuracy: 0.8157 - val_loss: 0.7113 - val_accuracy: 0.7333\n",
      "Epoch 66/100\n",
      "17/17 [==============================] - 2s 100ms/step - loss: 0.5764 - accuracy: 0.8185 - val_loss: 0.7062 - val_accuracy: 0.7333\n",
      "Epoch 67/100\n",
      "17/17 [==============================] - 2s 100ms/step - loss: 0.5699 - accuracy: 0.8213 - val_loss: 0.7014 - val_accuracy: 0.7417\n",
      "Epoch 68/100\n",
      "17/17 [==============================] - 2s 100ms/step - loss: 0.5637 - accuracy: 0.8250 - val_loss: 0.6966 - val_accuracy: 0.7500\n",
      "Epoch 69/100\n",
      "17/17 [==============================] - 2s 100ms/step - loss: 0.5574 - accuracy: 0.8278 - val_loss: 0.6922 - val_accuracy: 0.7583\n",
      "Epoch 70/100\n",
      "17/17 [==============================] - 2s 100ms/step - loss: 0.5513 - accuracy: 0.8287 - val_loss: 0.6880 - val_accuracy: 0.7667\n",
      "Epoch 71/100\n",
      "17/17 [==============================] - 2s 100ms/step - loss: 0.5453 - accuracy: 0.8296 - val_loss: 0.6840 - val_accuracy: 0.7667\n",
      "Epoch 72/100\n",
      "17/17 [==============================] - 2s 100ms/step - loss: 0.5395 - accuracy: 0.8324 - val_loss: 0.6797 - val_accuracy: 0.7667\n",
      "Epoch 73/100\n",
      "17/17 [==============================] - 2s 100ms/step - loss: 0.5339 - accuracy: 0.8333 - val_loss: 0.6757 - val_accuracy: 0.7667\n",
      "Epoch 74/100\n",
      "17/17 [==============================] - 2s 100ms/step - loss: 0.5285 - accuracy: 0.8343 - val_loss: 0.6718 - val_accuracy: 0.7667\n",
      "Epoch 75/100\n",
      "17/17 [==============================] - 2s 99ms/step - loss: 0.5232 - accuracy: 0.8370 - val_loss: 0.6679 - val_accuracy: 0.7667\n",
      "Epoch 76/100\n",
      "17/17 [==============================] - 2s 95ms/step - loss: 0.5181 - accuracy: 0.8417 - val_loss: 0.6640 - val_accuracy: 0.7750\n",
      "Epoch 77/100\n",
      "17/17 [==============================] - 2s 95ms/step - loss: 0.5131 - accuracy: 0.8463 - val_loss: 0.6607 - val_accuracy: 0.7750\n",
      "Epoch 78/100\n",
      "17/17 [==============================] - 2s 100ms/step - loss: 0.5078 - accuracy: 0.8454 - val_loss: 0.6559 - val_accuracy: 0.7750\n",
      "Epoch 79/100\n",
      "17/17 [==============================] - 2s 96ms/step - loss: 0.5027 - accuracy: 0.8500 - val_loss: 0.6531 - val_accuracy: 0.7750\n",
      "Epoch 80/100\n",
      "17/17 [==============================] - 2s 95ms/step - loss: 0.4980 - accuracy: 0.8528 - val_loss: 0.6491 - val_accuracy: 0.7750\n",
      "Epoch 81/100\n",
      "17/17 [==============================] - 2s 100ms/step - loss: 0.4935 - accuracy: 0.8556 - val_loss: 0.6460 - val_accuracy: 0.7750\n",
      "Epoch 82/100\n",
      "17/17 [==============================] - 2s 99ms/step - loss: 0.4889 - accuracy: 0.8574 - val_loss: 0.6427 - val_accuracy: 0.7750\n",
      "Epoch 83/100\n",
      "17/17 [==============================] - 2s 100ms/step - loss: 0.4845 - accuracy: 0.8574 - val_loss: 0.6384 - val_accuracy: 0.7750\n",
      "Epoch 84/100\n",
      "17/17 [==============================] - 2s 100ms/step - loss: 0.4802 - accuracy: 0.8583 - val_loss: 0.6359 - val_accuracy: 0.7750\n",
      "Epoch 85/100\n",
      "17/17 [==============================] - 2s 100ms/step - loss: 0.4758 - accuracy: 0.8602 - val_loss: 0.6323 - val_accuracy: 0.7750\n",
      "Epoch 86/100\n",
      "17/17 [==============================] - 2s 100ms/step - loss: 0.4716 - accuracy: 0.8611 - val_loss: 0.6291 - val_accuracy: 0.7833\n",
      "Epoch 87/100\n",
      "17/17 [==============================] - 2s 100ms/step - loss: 0.4672 - accuracy: 0.8630 - val_loss: 0.6259 - val_accuracy: 0.7833\n",
      "Epoch 88/100\n",
      "17/17 [==============================] - 2s 100ms/step - loss: 0.4630 - accuracy: 0.8648 - val_loss: 0.6236 - val_accuracy: 0.7833\n",
      "Epoch 89/100\n",
      "17/17 [==============================] - 2s 99ms/step - loss: 0.4587 - accuracy: 0.8667 - val_loss: 0.6207 - val_accuracy: 0.7833\n",
      "Epoch 90/100\n",
      "17/17 [==============================] - 2s 100ms/step - loss: 0.4545 - accuracy: 0.8667 - val_loss: 0.6178 - val_accuracy: 0.7833\n",
      "Epoch 91/100\n",
      "17/17 [==============================] - 2s 100ms/step - loss: 0.4505 - accuracy: 0.8676 - val_loss: 0.6143 - val_accuracy: 0.7917\n",
      "Epoch 92/100\n",
      "17/17 [==============================] - 2s 100ms/step - loss: 0.4469 - accuracy: 0.8676 - val_loss: 0.6112 - val_accuracy: 0.7917\n",
      "Epoch 93/100\n",
      "17/17 [==============================] - 2s 100ms/step - loss: 0.4431 - accuracy: 0.8676 - val_loss: 0.6082 - val_accuracy: 0.7917\n",
      "Epoch 94/100\n",
      "17/17 [==============================] - 2s 95ms/step - loss: 0.4392 - accuracy: 0.8704 - val_loss: 0.6049 - val_accuracy: 0.7917\n",
      "Epoch 95/100\n",
      "17/17 [==============================] - 2s 94ms/step - loss: 0.4356 - accuracy: 0.8713 - val_loss: 0.6027 - val_accuracy: 0.7917\n",
      "Epoch 96/100\n",
      "17/17 [==============================] - 2s 95ms/step - loss: 0.4320 - accuracy: 0.8704 - val_loss: 0.6002 - val_accuracy: 0.8000\n",
      "Epoch 97/100\n",
      "17/17 [==============================] - 2s 94ms/step - loss: 0.4285 - accuracy: 0.8704 - val_loss: 0.5974 - val_accuracy: 0.8000\n",
      "Epoch 98/100\n",
      "17/17 [==============================] - 2s 99ms/step - loss: 0.4248 - accuracy: 0.8713 - val_loss: 0.5947 - val_accuracy: 0.8000\n",
      "Epoch 99/100\n",
      "17/17 [==============================] - 2s 99ms/step - loss: 0.4212 - accuracy: 0.8722 - val_loss: 0.5918 - val_accuracy: 0.8000\n",
      "Epoch 100/100\n",
      "17/17 [==============================] - 2s 100ms/step - loss: 0.4178 - accuracy: 0.8722 - val_loss: 0.5881 - val_accuracy: 0.8000\n"
     ]
    }
   ],
   "source": [
    "train_dataset = tf.data.Dataset.from_tensor_slices((X_train, Y_train)).batch(64)\n",
    "test_dataset = tf.data.Dataset.from_tensor_slices((X_test, Y_test)).batch(64)\n",
    "history = conv_model.fit(train_dataset, epochs=100, validation_data=test_dataset)"
   ]
  },
  {
   "cell_type": "markdown",
   "metadata": {},
   "source": [
    "<a name='5'></a>\n",
    "## 5 - History Object \n",
    "\n",
    "The history object is an output of the `.fit()` operation, and provides a record of all the loss and metric values in memory. It's stored as a dictionary that you can retrieve at `history.history`: "
   ]
  },
  {
   "cell_type": "code",
   "execution_count": 55,
   "metadata": {},
   "outputs": [
    {
     "data": {
      "text/plain": [
       "{'loss': [1.79805588722229,\n",
       "  1.7839863300323486,\n",
       "  1.7766060829162598,\n",
       "  1.7691643238067627,\n",
       "  1.7598637342453003,\n",
       "  1.7474724054336548,\n",
       "  1.73067045211792,\n",
       "  1.7093720436096191,\n",
       "  1.6808347702026367,\n",
       "  1.6462734937667847,\n",
       "  1.6048094034194946,\n",
       "  1.5589936971664429,\n",
       "  1.510679006576538,\n",
       "  1.4622524976730347,\n",
       "  1.4161930084228516,\n",
       "  1.37384033203125,\n",
       "  1.335265040397644,\n",
       "  1.3005058765411377,\n",
       "  1.2686132192611694,\n",
       "  1.2382714748382568,\n",
       "  1.2088885307312012,\n",
       "  1.18148934841156,\n",
       "  1.1545432806015015,\n",
       "  1.1277679204940796,\n",
       "  1.1015046834945679,\n",
       "  1.0770314931869507,\n",
       "  1.052337646484375,\n",
       "  1.0280907154083252,\n",
       "  1.0060580968856812,\n",
       "  0.984293520450592,\n",
       "  0.9632535576820374,\n",
       "  0.9445130825042725,\n",
       "  0.926146388053894,\n",
       "  0.908469021320343,\n",
       "  0.8924891948699951,\n",
       "  0.8767861723899841,\n",
       "  0.8620225787162781,\n",
       "  0.8472184538841248,\n",
       "  0.8336241841316223,\n",
       "  0.8210174441337585,\n",
       "  0.8084321022033691,\n",
       "  0.7969380617141724,\n",
       "  0.7848272919654846,\n",
       "  0.7740117907524109,\n",
       "  0.7635637521743774,\n",
       "  0.7533469200134277,\n",
       "  0.7421967387199402,\n",
       "  0.731523871421814,\n",
       "  0.7205594182014465,\n",
       "  0.7095653414726257,\n",
       "  0.6993528604507446,\n",
       "  0.6892073750495911,\n",
       "  0.6793750524520874,\n",
       "  0.6699727177619934,\n",
       "  0.6611981391906738,\n",
       "  0.6522302031517029,\n",
       "  0.6439971327781677,\n",
       "  0.6362460851669312,\n",
       "  0.6286911368370056,\n",
       "  0.6207753419876099,\n",
       "  0.6128913760185242,\n",
       "  0.6049027442932129,\n",
       "  0.5974188446998596,\n",
       "  0.5900411605834961,\n",
       "  0.5830139517784119,\n",
       "  0.5763761401176453,\n",
       "  0.5699057579040527,\n",
       "  0.5636557340621948,\n",
       "  0.5573598146438599,\n",
       "  0.5512680411338806,\n",
       "  0.5453387498855591,\n",
       "  0.5395482182502747,\n",
       "  0.5339443683624268,\n",
       "  0.5284681916236877,\n",
       "  0.5231651067733765,\n",
       "  0.5180568099021912,\n",
       "  0.5131401419639587,\n",
       "  0.5077546238899231,\n",
       "  0.5027180314064026,\n",
       "  0.4979993402957916,\n",
       "  0.49353381991386414,\n",
       "  0.4889417290687561,\n",
       "  0.48453760147094727,\n",
       "  0.48019301891326904,\n",
       "  0.475772500038147,\n",
       "  0.4715980291366577,\n",
       "  0.4672260284423828,\n",
       "  0.462964802980423,\n",
       "  0.4586640000343323,\n",
       "  0.45447349548339844,\n",
       "  0.45053723454475403,\n",
       "  0.4468604028224945,\n",
       "  0.4430898427963257,\n",
       "  0.4391631484031677,\n",
       "  0.435566246509552,\n",
       "  0.4319533109664917,\n",
       "  0.42846420407295227,\n",
       "  0.4248310625553131,\n",
       "  0.42119625210762024,\n",
       "  0.4177725315093994],\n",
       " 'accuracy': [0.2212962955236435,\n",
       "  0.21759259700775146,\n",
       "  0.2750000059604645,\n",
       "  0.2787036895751953,\n",
       "  0.3055555522441864,\n",
       "  0.31018519401550293,\n",
       "  0.3083333373069763,\n",
       "  0.3472222089767456,\n",
       "  0.39907407760620117,\n",
       "  0.4148148000240326,\n",
       "  0.4416666626930237,\n",
       "  0.46759259700775146,\n",
       "  0.48055556416511536,\n",
       "  0.4962962865829468,\n",
       "  0.5166666507720947,\n",
       "  0.5268518328666687,\n",
       "  0.5370370149612427,\n",
       "  0.5462962985038757,\n",
       "  0.550000011920929,\n",
       "  0.5583333373069763,\n",
       "  0.5703703761100769,\n",
       "  0.5833333134651184,\n",
       "  0.5888888835906982,\n",
       "  0.5962963104248047,\n",
       "  0.6074073910713196,\n",
       "  0.6240741014480591,\n",
       "  0.6333333253860474,\n",
       "  0.6379629373550415,\n",
       "  0.6564815044403076,\n",
       "  0.6666666865348816,\n",
       "  0.675000011920929,\n",
       "  0.6768518686294556,\n",
       "  0.6879629492759705,\n",
       "  0.6944444179534912,\n",
       "  0.7018518447875977,\n",
       "  0.7083333134651184,\n",
       "  0.7129629850387573,\n",
       "  0.7175925970077515,\n",
       "  0.7212963104248047,\n",
       "  0.7231481671333313,\n",
       "  0.7314814925193787,\n",
       "  0.7324073910713196,\n",
       "  0.7333333492279053,\n",
       "  0.7324073910713196,\n",
       "  0.7351852059364319,\n",
       "  0.7379629611968994,\n",
       "  0.7444444298744202,\n",
       "  0.75,\n",
       "  0.7537037134170532,\n",
       "  0.7546296119689941,\n",
       "  0.7564814686775208,\n",
       "  0.7629629373550415,\n",
       "  0.7712963223457336,\n",
       "  0.7777777910232544,\n",
       "  0.7805555462837219,\n",
       "  0.7842592597007751,\n",
       "  0.7907407283782959,\n",
       "  0.7935185432434082,\n",
       "  0.7972221970558167,\n",
       "  0.7990740537643433,\n",
       "  0.8009259104728699,\n",
       "  0.8092592358589172,\n",
       "  0.8120370507240295,\n",
       "  0.8148148059844971,\n",
       "  0.8157407641410828,\n",
       "  0.8185185194015503,\n",
       "  0.8212962746620178,\n",
       "  0.824999988079071,\n",
       "  0.8277778029441833,\n",
       "  0.8287037014961243,\n",
       "  0.8296296000480652,\n",
       "  0.8324074149131775,\n",
       "  0.8333333134651184,\n",
       "  0.8342592716217041,\n",
       "  0.8370370268821716,\n",
       "  0.8416666388511658,\n",
       "  0.8462963104248047,\n",
       "  0.845370352268219,\n",
       "  0.8500000238418579,\n",
       "  0.8527777791023254,\n",
       "  0.855555534362793,\n",
       "  0.8574073910713196,\n",
       "  0.8574073910713196,\n",
       "  0.8583333492279053,\n",
       "  0.8601852059364319,\n",
       "  0.8611111044883728,\n",
       "  0.8629629611968994,\n",
       "  0.864814817905426,\n",
       "  0.8666666746139526,\n",
       "  0.8666666746139526,\n",
       "  0.8675925731658936,\n",
       "  0.8675925731658936,\n",
       "  0.8675925731658936,\n",
       "  0.8703703880310059,\n",
       "  0.8712962865829468,\n",
       "  0.8703703880310059,\n",
       "  0.8703703880310059,\n",
       "  0.8712962865829468,\n",
       "  0.8722222447395325,\n",
       "  0.8722222447395325],\n",
       " 'val_loss': [1.7870843410491943,\n",
       "  1.7817250490188599,\n",
       "  1.776856780052185,\n",
       "  1.7707229852676392,\n",
       "  1.7624050378799438,\n",
       "  1.7513738870620728,\n",
       "  1.7381833791732788,\n",
       "  1.7183849811553955,\n",
       "  1.6935698986053467,\n",
       "  1.6628376245498657,\n",
       "  1.6250015497207642,\n",
       "  1.5837218761444092,\n",
       "  1.5398144721984863,\n",
       "  1.4940704107284546,\n",
       "  1.4500678777694702,\n",
       "  1.407139539718628,\n",
       "  1.3661261796951294,\n",
       "  1.3278244733810425,\n",
       "  1.2918645143508911,\n",
       "  1.259796380996704,\n",
       "  1.229412317276001,\n",
       "  1.199889063835144,\n",
       "  1.171125888824463,\n",
       "  1.145212173461914,\n",
       "  1.119827389717102,\n",
       "  1.0950796604156494,\n",
       "  1.0705208778381348,\n",
       "  1.0481897592544556,\n",
       "  1.0282182693481445,\n",
       "  1.0088011026382446,\n",
       "  0.9895780086517334,\n",
       "  0.971746027469635,\n",
       "  0.9543741941452026,\n",
       "  0.939823567867279,\n",
       "  0.9259809851646423,\n",
       "  0.9141479134559631,\n",
       "  0.9029646515846252,\n",
       "  0.891687273979187,\n",
       "  0.8829876780509949,\n",
       "  0.8754241466522217,\n",
       "  0.8678370118141174,\n",
       "  0.8588067293167114,\n",
       "  0.853187620639801,\n",
       "  0.8462222218513489,\n",
       "  0.8388526439666748,\n",
       "  0.8285593390464783,\n",
       "  0.8195050954818726,\n",
       "  0.8119440674781799,\n",
       "  0.8024040460586548,\n",
       "  0.7940939664840698,\n",
       "  0.7865524291992188,\n",
       "  0.7798760533332825,\n",
       "  0.773121178150177,\n",
       "  0.7672968506813049,\n",
       "  0.7612301707267761,\n",
       "  0.7567101716995239,\n",
       "  0.7519123554229736,\n",
       "  0.7472887635231018,\n",
       "  0.7423872351646423,\n",
       "  0.7361729741096497,\n",
       "  0.7298258543014526,\n",
       "  0.7251241207122803,\n",
       "  0.720869779586792,\n",
       "  0.7158940434455872,\n",
       "  0.7113093733787537,\n",
       "  0.706188976764679,\n",
       "  0.7014167904853821,\n",
       "  0.696553647518158,\n",
       "  0.6921743154525757,\n",
       "  0.6879613399505615,\n",
       "  0.6839978694915771,\n",
       "  0.6797481775283813,\n",
       "  0.6757383942604065,\n",
       "  0.6718076467514038,\n",
       "  0.6678956151008606,\n",
       "  0.6640220880508423,\n",
       "  0.6607133746147156,\n",
       "  0.6558952331542969,\n",
       "  0.6531323790550232,\n",
       "  0.6491442322731018,\n",
       "  0.6460040807723999,\n",
       "  0.6426538825035095,\n",
       "  0.6384351253509521,\n",
       "  0.635864794254303,\n",
       "  0.6323462128639221,\n",
       "  0.6290645599365234,\n",
       "  0.6258681416511536,\n",
       "  0.6235796213150024,\n",
       "  0.6206920742988586,\n",
       "  0.617755651473999,\n",
       "  0.6142812371253967,\n",
       "  0.6111788153648376,\n",
       "  0.6082243323326111,\n",
       "  0.6048629283905029,\n",
       "  0.6027281284332275,\n",
       "  0.6001603007316589,\n",
       "  0.5974289178848267,\n",
       "  0.5946605205535889,\n",
       "  0.5917508602142334,\n",
       "  0.5880886316299438],\n",
       " 'val_accuracy': [0.3083333373069763,\n",
       "  0.24166665971279144,\n",
       "  0.30000001192092896,\n",
       "  0.3166666626930237,\n",
       "  0.32499998807907104,\n",
       "  0.3583333194255829,\n",
       "  0.36666667461395264,\n",
       "  0.40833333134651184,\n",
       "  0.4000000059604645,\n",
       "  0.42500001192092896,\n",
       "  0.46666666865348816,\n",
       "  0.4833333194255829,\n",
       "  0.4416666626930237,\n",
       "  0.4833333194255829,\n",
       "  0.5,\n",
       "  0.5249999761581421,\n",
       "  0.5083333253860474,\n",
       "  0.5333333611488342,\n",
       "  0.550000011920929,\n",
       "  0.5666666626930237,\n",
       "  0.5666666626930237,\n",
       "  0.5916666388511658,\n",
       "  0.6000000238418579,\n",
       "  0.6000000238418579,\n",
       "  0.6333333253860474,\n",
       "  0.6166666746139526,\n",
       "  0.6166666746139526,\n",
       "  0.6333333253860474,\n",
       "  0.625,\n",
       "  0.6333333253860474,\n",
       "  0.6333333253860474,\n",
       "  0.6416666507720947,\n",
       "  0.6499999761581421,\n",
       "  0.6583333611488342,\n",
       "  0.6583333611488342,\n",
       "  0.6666666865348816,\n",
       "  0.675000011920929,\n",
       "  0.6833333373069763,\n",
       "  0.6666666865348816,\n",
       "  0.6916666626930237,\n",
       "  0.699999988079071,\n",
       "  0.699999988079071,\n",
       "  0.699999988079071,\n",
       "  0.6916666626930237,\n",
       "  0.7083333134651184,\n",
       "  0.7166666388511658,\n",
       "  0.7166666388511658,\n",
       "  0.7166666388511658,\n",
       "  0.7250000238418579,\n",
       "  0.7250000238418579,\n",
       "  0.7250000238418579,\n",
       "  0.7250000238418579,\n",
       "  0.7250000238418579,\n",
       "  0.7250000238418579,\n",
       "  0.7250000238418579,\n",
       "  0.7250000238418579,\n",
       "  0.7333333492279053,\n",
       "  0.7333333492279053,\n",
       "  0.7250000238418579,\n",
       "  0.7250000238418579,\n",
       "  0.7250000238418579,\n",
       "  0.7333333492279053,\n",
       "  0.7333333492279053,\n",
       "  0.7333333492279053,\n",
       "  0.7333333492279053,\n",
       "  0.7333333492279053,\n",
       "  0.7416666746139526,\n",
       "  0.75,\n",
       "  0.7583333253860474,\n",
       "  0.7666666507720947,\n",
       "  0.7666666507720947,\n",
       "  0.7666666507720947,\n",
       "  0.7666666507720947,\n",
       "  0.7666666507720947,\n",
       "  0.7666666507720947,\n",
       "  0.7749999761581421,\n",
       "  0.7749999761581421,\n",
       "  0.7749999761581421,\n",
       "  0.7749999761581421,\n",
       "  0.7749999761581421,\n",
       "  0.7749999761581421,\n",
       "  0.7749999761581421,\n",
       "  0.7749999761581421,\n",
       "  0.7749999761581421,\n",
       "  0.7749999761581421,\n",
       "  0.7833333611488342,\n",
       "  0.7833333611488342,\n",
       "  0.7833333611488342,\n",
       "  0.7833333611488342,\n",
       "  0.7833333611488342,\n",
       "  0.7916666865348816,\n",
       "  0.7916666865348816,\n",
       "  0.7916666865348816,\n",
       "  0.7916666865348816,\n",
       "  0.7916666865348816,\n",
       "  0.800000011920929,\n",
       "  0.800000011920929,\n",
       "  0.800000011920929,\n",
       "  0.800000011920929,\n",
       "  0.800000011920929]}"
      ]
     },
     "execution_count": 55,
     "metadata": {},
     "output_type": "execute_result"
    }
   ],
   "source": [
    "history.history"
   ]
  },
  {
   "cell_type": "markdown",
   "metadata": {},
   "source": [
    "Now visualize the loss over time using `history.history`: "
   ]
  },
  {
   "cell_type": "code",
   "execution_count": 56,
   "metadata": {},
   "outputs": [
    {
     "data": {
      "text/plain": [
       "[Text(0, 0.5, 'Accuracy'), Text(0.5, 0, 'Epoch')]"
      ]
     },
     "execution_count": 56,
     "metadata": {},
     "output_type": "execute_result"
    },
    {
     "data": {
      "image/png": "[encoded data removed]",
      "text/plain": [
       "<Figure size 864x576 with 1 Axes>"
      ]
     },
     "metadata": {
      "needs_background": "light"
     },
     "output_type": "display_data"
    },
    {
     "data": {
      "image/png": "[encoded data removed]",
      "text/plain": [
       "<Figure size 864x576 with 1 Axes>"
      ]
     },
     "metadata": {
      "needs_background": "light"
     },
     "output_type": "display_data"
    }
   ],
   "source": [
    "# The history.history[\"loss\"] entry is a dictionary with as many values as epochs that the\n",
    "# model was trained on. \n",
    "df_loss_acc = pd.DataFrame(history.history)\n",
    "df_loss= df_loss_acc[['loss','val_loss']]\n",
    "df_loss.rename(columns={'loss':'train','val_loss':'validation'},inplace=True)\n",
    "df_acc= df_loss_acc[['accuracy','val_accuracy']]\n",
    "df_acc.rename(columns={'accuracy':'train','val_accuracy':'validation'},inplace=True)\n",
    "df_loss.plot(title='Model loss',figsize=(12,8)).set(xlabel='Epoch',ylabel='Loss')\n",
    "df_acc.plot(title='Model Accuracy',figsize=(12,8)).set(xlabel='Epoch',ylabel='Accuracy')"
   ]
  },
  {
   "cell_type": "markdown",
   "metadata": {},
   "source": [
    "**Congratulations**! You've finished the assignment and built two models: One that recognizes  smiles, and another that recognizes SIGN language with almost 80% accuracy on the test set. In addition to that, you now also understand the applications of two Keras APIs: Sequential and Functional. Nicely done! \n",
    "\n",
    "By now, you know a bit about how the Functional API works and may have glimpsed the possibilities. In your next assignment, you'll really get a feel for its power when you get the opportunity to build a very deep ConvNet, using ResNets! "
   ]
  },
  {
   "cell_type": "markdown",
   "metadata": {},
   "source": [
    "<a name='6'></a>\n",
    "## 6 - Bibliography\n",
    "\n",
    "You're always encouraged to read the official documentation. To that end, you can find the docs for the Sequential and Functional APIs here: \n",
    "\n",
    "https://www.tensorflow.org/guide/keras/sequential_model\n",
    "\n",
    "https://www.tensorflow.org/guide/keras/functional"
   ]
  }
 ],
 "metadata": {
  "coursera": {
   "course_slug": "convolutional-neural-networks",
   "graded_item_id": "bwbJV",
   "launcher_item_id": "0TkXB"
  },
  "kernelspec": {
   "display_name": "Python 3",
   "language": "python",
   "name": "python3"
  },
  "language_info": {
   "codemirror_mode": {
    "name": "ipython",
    "version": 3
   },
   "file_extension": ".py",
   "mimetype": "text/x-python",
   "name": "python",
   "nbconvert_exporter": "python",
   "pygments_lexer": "ipython3",
   "version": "3.7.6"
  }
 },
 "nbformat": 4,
 "nbformat_minor": 2
}
